{
 "cells": [
  {
   "cell_type": "code",
   "execution_count": 35,
   "metadata": {},
   "outputs": [],
   "source": [
    "from __future__ import absolute_import, division, print_function, unicode_literals\n",
    "\n",
    "import os\n",
    "import scipy.io\n",
    "import datetime\n",
    "import dateutil\n",
    "import numpy as np\n",
    "import pandas as pd\n",
    "import cv2\n",
    "import sklearn.model_selection\n",
    "import tensorflow as tf\n",
    "from tensorflow.keras import layers\n",
    "from PIL import Image\n",
    "import shutil\n",
    "import time\n",
    "\n",
    "import logging\n",
    "logger = tf.get_logger()\n",
    "logger.setLevel(logging.DEBUG)"
   ]
  },
  {
   "cell_type": "code",
   "execution_count": 2,
   "metadata": {},
   "outputs": [],
   "source": [
    "IMDB_SOURCE_DIR = 'imdb_crop'\n",
    "IMDB_MATDB_FILE = os.path.join(IMDB_SOURCE_DIR, 'imdb.mat')\n",
    "IMAGE_OUTPUT_DIR = 'image_output'\n",
    "IMAGE_SIZE_PIXELS = 224\n",
    "MODEL_CHECKPOINT_DIR = 'model_checkpoint'"
   ]
  },
  {
   "cell_type": "code",
   "execution_count": 3,
   "metadata": {},
   "outputs": [
    {
     "name": "stdout",
     "output_type": "stream",
     "text": [
      "MATLIB database rows: 460723\n"
     ]
    }
   ],
   "source": [
    "matdb = scipy.io.loadmat(IMDB_MATDB_FILE)['imdb'][0, 0]\n",
    "print('MATLIB database rows: {}'.format(str(len(matdb[\"face_score\"][0]))))"
   ]
  },
  {
   "cell_type": "code",
   "execution_count": 4,
   "metadata": {},
   "outputs": [],
   "source": [
    "def calculate_age(dob, photo_taken_year):\n",
    "    days = dob % 1\n",
    "    birth_date = datetime.date.fromordinal(dob) + datetime.timedelta(days=days) - datetime.timedelta(days=366)\n",
    "    return dateutil.relativedelta.relativedelta(datetime.date(photo_taken_year, 7, 1), birth_date).years"
   ]
  },
  {
   "cell_type": "code",
   "execution_count": 5,
   "metadata": {},
   "outputs": [],
   "source": [
    "def get_age_range_id(age):\n",
    "    if age < 18:\n",
    "        return 0\n",
    "    if age <= 24:\n",
    "        return 1\n",
    "    if age <= 34:\n",
    "        return 2\n",
    "    if age <= 44:\n",
    "        return 3\n",
    "    if age <= 54:\n",
    "        return 4\n",
    "    if age <= 64:\n",
    "        return 5\n",
    "    if age < 75:\n",
    "        return 6\n",
    "    return 7\n",
    "\n",
    "\n",
    "def get_age_range_name(age_range_id):\n",
    "    if age_range_id == 0:\n",
    "        return '< 18'\n",
    "    if age_range_id == 1:\n",
    "        return '18 - 24'\n",
    "    if age_range_id == 2:\n",
    "        return '25 - 34'\n",
    "    if age_range_id == 3:\n",
    "        return '35 - 44'\n",
    "    if age_range_id == 4:\n",
    "        return '45 - 54'\n",
    "    if age_range_id == 5:\n",
    "        return '55 - 64'\n",
    "    if age_range_id == 6:\n",
    "        return '65 - 74'\n",
    "    return '75+'\n",
    "\n",
    "def get_gender_name(gender):\n",
    "    if gender == 0:\n",
    "        return 'Female'\n",
    "    if gender == 1:\n",
    "        return 'Male'\n",
    "    return 'Unknown'"
   ]
  },
  {
   "cell_type": "code",
   "execution_count": 6,
   "metadata": {},
   "outputs": [
    {
     "name": "stdout",
     "output_type": "stream",
     "text": [
      "<class 'pandas.core.frame.DataFrame'>\n",
      "RangeIndex: 136768 entries, 0 to 136767\n",
      "Data columns (total 4 columns):\n",
      "file_path       136768 non-null object\n",
      "age             136768 non-null int64\n",
      "age_range_id    136768 non-null int64\n",
      "gender          134498 non-null float64\n",
      "dtypes: float64(1), int64(2), object(1)\n",
      "memory usage: 4.2+ MB\n"
     ]
    }
   ],
   "source": [
    "rows = []\n",
    "MINIMUM_FACE_SCORE = 2.0\n",
    "\n",
    "for i in range(len(matdb[\"face_score\"][0])):\n",
    "    dob = int(matdb[\"dob\"][0][i])\n",
    "    face_score = matdb[\"face_score\"][0][i]\n",
    "    second_face_score = matdb[\"second_face_score\"][0][i]\n",
    "\n",
    "    if dob <= 366:\n",
    "        continue\n",
    "\n",
    "    if face_score < MINIMUM_FACE_SCORE or np.isinf(face_score):\n",
    "        continue\n",
    "        \n",
    "    if (~np.isnan(second_face_score)) and second_face_score > 0.0:\n",
    "        continue\n",
    "\n",
    "    file_path = matdb[\"full_path\"][0][i][0]\n",
    "    age = calculate_age(dob, int(matdb[\"photo_taken\"][0][i]))\n",
    "    gender = matdb[\"gender\"][0][i]\n",
    "    if os.path.isfile(os.path.join(IMDB_SOURCE_DIR, file_path)):\n",
    "        rows.append({'file_path': file_path, 'age': age, 'age_range_id': get_age_range_id(age), 'gender': gender})\n",
    "    else:\n",
    "        print('Image file does not exist! Skipping record for image: {}'.format(file_path))\n",
    "\n",
    "\n",
    "df = pd.DataFrame(rows, columns=['file_path', 'age', 'age_range_id', 'gender'])\n",
    "df.info()"
   ]
  },
  {
   "cell_type": "code",
   "execution_count": 7,
   "metadata": {},
   "outputs": [
    {
     "name": "stdout",
     "output_type": "stream",
     "text": [
      "<class 'pandas.core.frame.DataFrame'>\n",
      "Int64Index: 134498 entries, 0 to 136767\n",
      "Data columns (total 4 columns):\n",
      "file_path       134498 non-null object\n",
      "age             134498 non-null int64\n",
      "age_range_id    134498 non-null int64\n",
      "gender          134498 non-null int64\n",
      "dtypes: int64(3), object(1)\n",
      "memory usage: 5.1+ MB\n"
     ]
    }
   ],
   "source": [
    "df = df.drop_duplicates()\n",
    "df = df.dropna()\n",
    "df = df.astype({'gender': 'int64'})\n",
    "df.info()"
   ]
  },
  {
   "cell_type": "code",
   "execution_count": 8,
   "metadata": {},
   "outputs": [
    {
     "data": {
      "text/html": [
       "<div>\n",
       "<style scoped>\n",
       "    .dataframe tbody tr th:only-of-type {\n",
       "        vertical-align: middle;\n",
       "    }\n",
       "\n",
       "    .dataframe tbody tr th {\n",
       "        vertical-align: top;\n",
       "    }\n",
       "\n",
       "    .dataframe thead th {\n",
       "        text-align: right;\n",
       "    }\n",
       "</style>\n",
       "<table border=\"1\" class=\"dataframe\">\n",
       "  <thead>\n",
       "    <tr style=\"text-align: right;\">\n",
       "      <th></th>\n",
       "      <th>file_path</th>\n",
       "      <th>age</th>\n",
       "      <th>age_range_id</th>\n",
       "      <th>gender</th>\n",
       "    </tr>\n",
       "  </thead>\n",
       "  <tbody>\n",
       "    <tr>\n",
       "      <th>0</th>\n",
       "      <td>02/nm0000002_rm1346607872_1924-9-16_2004.jpg</td>\n",
       "      <td>79</td>\n",
       "      <td>7</td>\n",
       "      <td>0</td>\n",
       "    </tr>\n",
       "    <tr>\n",
       "      <th>1</th>\n",
       "      <td>02/nm0000002_rm1363385088_1924-9-16_2004.jpg</td>\n",
       "      <td>79</td>\n",
       "      <td>7</td>\n",
       "      <td>0</td>\n",
       "    </tr>\n",
       "    <tr>\n",
       "      <th>2</th>\n",
       "      <td>02/nm0000002_rm221957120_1924-9-16_1974.jpg</td>\n",
       "      <td>49</td>\n",
       "      <td>4</td>\n",
       "      <td>0</td>\n",
       "    </tr>\n",
       "    <tr>\n",
       "      <th>3</th>\n",
       "      <td>02/nm0000002_rm2287049216_1924-9-16_2007.jpg</td>\n",
       "      <td>82</td>\n",
       "      <td>7</td>\n",
       "      <td>0</td>\n",
       "    </tr>\n",
       "    <tr>\n",
       "      <th>4</th>\n",
       "      <td>02/nm0000002_rm238734336_1924-9-16_1974.jpg</td>\n",
       "      <td>49</td>\n",
       "      <td>4</td>\n",
       "      <td>0</td>\n",
       "    </tr>\n",
       "  </tbody>\n",
       "</table>\n",
       "</div>"
      ],
      "text/plain": [
       "                                      file_path  age  age_range_id  gender\n",
       "0  02/nm0000002_rm1346607872_1924-9-16_2004.jpg   79             7       0\n",
       "1  02/nm0000002_rm1363385088_1924-9-16_2004.jpg   79             7       0\n",
       "2   02/nm0000002_rm221957120_1924-9-16_1974.jpg   49             4       0\n",
       "3  02/nm0000002_rm2287049216_1924-9-16_2007.jpg   82             7       0\n",
       "4   02/nm0000002_rm238734336_1924-9-16_1974.jpg   49             4       0"
      ]
     },
     "execution_count": 8,
     "metadata": {},
     "output_type": "execute_result"
    }
   ],
   "source": [
    "df.head()"
   ]
  },
  {
   "cell_type": "code",
   "execution_count": 9,
   "metadata": {},
   "outputs": [
    {
     "data": {
      "text/html": [
       "<div>\n",
       "<style scoped>\n",
       "    .dataframe tbody tr th:only-of-type {\n",
       "        vertical-align: middle;\n",
       "    }\n",
       "\n",
       "    .dataframe tbody tr th {\n",
       "        vertical-align: top;\n",
       "    }\n",
       "\n",
       "    .dataframe thead th {\n",
       "        text-align: right;\n",
       "    }\n",
       "</style>\n",
       "<table border=\"1\" class=\"dataframe\">\n",
       "  <thead>\n",
       "    <tr style=\"text-align: right;\">\n",
       "      <th></th>\n",
       "      <th>age</th>\n",
       "      <th>age_range_id</th>\n",
       "      <th>gender</th>\n",
       "    </tr>\n",
       "  </thead>\n",
       "  <tbody>\n",
       "    <tr>\n",
       "      <th>count</th>\n",
       "      <td>134498.000000</td>\n",
       "      <td>134498.000000</td>\n",
       "      <td>134498.000000</td>\n",
       "    </tr>\n",
       "    <tr>\n",
       "      <th>mean</th>\n",
       "      <td>36.055183</td>\n",
       "      <td>2.634998</td>\n",
       "      <td>0.518119</td>\n",
       "    </tr>\n",
       "    <tr>\n",
       "      <th>std</th>\n",
       "      <td>12.969357</td>\n",
       "      <td>1.351856</td>\n",
       "      <td>0.499673</td>\n",
       "    </tr>\n",
       "    <tr>\n",
       "      <th>min</th>\n",
       "      <td>-30.000000</td>\n",
       "      <td>0.000000</td>\n",
       "      <td>0.000000</td>\n",
       "    </tr>\n",
       "    <tr>\n",
       "      <th>25%</th>\n",
       "      <td>27.000000</td>\n",
       "      <td>2.000000</td>\n",
       "      <td>0.000000</td>\n",
       "    </tr>\n",
       "    <tr>\n",
       "      <th>50%</th>\n",
       "      <td>34.000000</td>\n",
       "      <td>2.000000</td>\n",
       "      <td>1.000000</td>\n",
       "    </tr>\n",
       "    <tr>\n",
       "      <th>75%</th>\n",
       "      <td>43.000000</td>\n",
       "      <td>3.000000</td>\n",
       "      <td>1.000000</td>\n",
       "    </tr>\n",
       "    <tr>\n",
       "      <th>max</th>\n",
       "      <td>134.000000</td>\n",
       "      <td>7.000000</td>\n",
       "      <td>1.000000</td>\n",
       "    </tr>\n",
       "  </tbody>\n",
       "</table>\n",
       "</div>"
      ],
      "text/plain": [
       "                 age   age_range_id         gender\n",
       "count  134498.000000  134498.000000  134498.000000\n",
       "mean       36.055183       2.634998       0.518119\n",
       "std        12.969357       1.351856       0.499673\n",
       "min       -30.000000       0.000000       0.000000\n",
       "25%        27.000000       2.000000       0.000000\n",
       "50%        34.000000       2.000000       1.000000\n",
       "75%        43.000000       3.000000       1.000000\n",
       "max       134.000000       7.000000       1.000000"
      ]
     },
     "execution_count": 9,
     "metadata": {},
     "output_type": "execute_result"
    }
   ],
   "source": [
    "df.describe()"
   ]
  },
  {
   "cell_type": "code",
   "execution_count": 10,
   "metadata": {},
   "outputs": [
    {
     "data": {
      "text/html": [
       "<div>\n",
       "<style scoped>\n",
       "    .dataframe tbody tr th:only-of-type {\n",
       "        vertical-align: middle;\n",
       "    }\n",
       "\n",
       "    .dataframe tbody tr th {\n",
       "        vertical-align: top;\n",
       "    }\n",
       "\n",
       "    .dataframe thead th {\n",
       "        text-align: right;\n",
       "    }\n",
       "</style>\n",
       "<table border=\"1\" class=\"dataframe\">\n",
       "  <thead>\n",
       "    <tr style=\"text-align: right;\">\n",
       "      <th></th>\n",
       "      <th>age</th>\n",
       "      <th>age_range_id</th>\n",
       "      <th>gender</th>\n",
       "    </tr>\n",
       "  </thead>\n",
       "  <tbody>\n",
       "    <tr>\n",
       "      <th>count</th>\n",
       "      <td>132077.000000</td>\n",
       "      <td>132077.000000</td>\n",
       "      <td>132077.000000</td>\n",
       "    </tr>\n",
       "    <tr>\n",
       "      <th>mean</th>\n",
       "      <td>36.315225</td>\n",
       "      <td>2.660986</td>\n",
       "      <td>0.519031</td>\n",
       "    </tr>\n",
       "    <tr>\n",
       "      <th>std</th>\n",
       "      <td>12.307695</td>\n",
       "      <td>1.301717</td>\n",
       "      <td>0.499640</td>\n",
       "    </tr>\n",
       "    <tr>\n",
       "      <th>min</th>\n",
       "      <td>13.000000</td>\n",
       "      <td>0.000000</td>\n",
       "      <td>0.000000</td>\n",
       "    </tr>\n",
       "    <tr>\n",
       "      <th>25%</th>\n",
       "      <td>27.000000</td>\n",
       "      <td>2.000000</td>\n",
       "      <td>0.000000</td>\n",
       "    </tr>\n",
       "    <tr>\n",
       "      <th>50%</th>\n",
       "      <td>35.000000</td>\n",
       "      <td>3.000000</td>\n",
       "      <td>1.000000</td>\n",
       "    </tr>\n",
       "    <tr>\n",
       "      <th>75%</th>\n",
       "      <td>43.000000</td>\n",
       "      <td>3.000000</td>\n",
       "      <td>1.000000</td>\n",
       "    </tr>\n",
       "    <tr>\n",
       "      <th>max</th>\n",
       "      <td>80.000000</td>\n",
       "      <td>7.000000</td>\n",
       "      <td>1.000000</td>\n",
       "    </tr>\n",
       "  </tbody>\n",
       "</table>\n",
       "</div>"
      ],
      "text/plain": [
       "                 age   age_range_id         gender\n",
       "count  132077.000000  132077.000000  132077.000000\n",
       "mean       36.315225       2.660986       0.519031\n",
       "std        12.307695       1.301717       0.499640\n",
       "min        13.000000       0.000000       0.000000\n",
       "25%        27.000000       2.000000       0.000000\n",
       "50%        35.000000       3.000000       1.000000\n",
       "75%        43.000000       3.000000       1.000000\n",
       "max        80.000000       7.000000       1.000000"
      ]
     },
     "execution_count": 10,
     "metadata": {},
     "output_type": "execute_result"
    }
   ],
   "source": [
    "df.drop(df[ df.age < 13 ].index, inplace=True)\n",
    "df.drop(df[ df.age > 80 ].index, inplace=True)\n",
    "df.describe()"
   ]
  },
  {
   "cell_type": "code",
   "execution_count": 11,
   "metadata": {},
   "outputs": [
    {
     "data": {
      "text/plain": [
       "<matplotlib.axes._subplots.AxesSubplot at 0x1f66cf52fc8>"
      ]
     },
     "execution_count": 11,
     "metadata": {},
     "output_type": "execute_result"
    },
    {
     "data": {
      "image/png": "[encoded data removed]",
      "text/plain": [
       "<Figure size 432x288 with 1 Axes>"
      ]
     },
     "metadata": {
      "needs_background": "light"
     },
     "output_type": "display_data"
    }
   ],
   "source": [
    "df['age'].hist()"
   ]
  },
  {
   "cell_type": "code",
   "execution_count": 12,
   "metadata": {},
   "outputs": [
    {
     "data": {
      "text/plain": [
       "<matplotlib.axes._subplots.AxesSubplot at 0x1f66cc4ea88>"
      ]
     },
     "execution_count": 12,
     "metadata": {},
     "output_type": "execute_result"
    },
    {
     "data": {
      "image/png": "[encoded data removed]",
      "text/plain": [
       "<Figure size 432x288 with 1 Axes>"
      ]
     },
     "metadata": {
      "needs_background": "light"
     },
     "output_type": "display_data"
    }
   ],
   "source": [
    "df['age_range_id'].hist()"
   ]
  },
  {
   "cell_type": "code",
   "execution_count": 13,
   "metadata": {},
   "outputs": [
    {
     "data": {
      "text/plain": [
       "<matplotlib.axes._subplots.AxesSubplot at 0x1f66d46fb88>"
      ]
     },
     "execution_count": 13,
     "metadata": {},
     "output_type": "execute_result"
    },
    {
     "data": {
      "image/png": "[encoded data removed]",
      "text/plain": [
       "<Figure size 432x288 with 1 Axes>"
      ]
     },
     "metadata": {
      "needs_background": "light"
     },
     "output_type": "display_data"
    }
   ],
   "source": [
    "df['gender'].hist()"
   ]
  },
  {
   "cell_type": "code",
   "execution_count": 14,
   "metadata": {},
   "outputs": [
    {
     "name": "stdout",
     "output_type": "stream",
     "text": [
      "Female\t63525\n",
      "Male\t68552\n"
     ]
    }
   ],
   "source": [
    "gender_summary_df = df.groupby(by=['gender'])['age'].count().to_frame('count').reset_index()\n",
    "\n",
    "for index, row in gender_summary_df.iterrows():\n",
    "    print('{}\\t{}'.format(get_gender_name(row['gender']), row['count']))"
   ]
  },
  {
   "cell_type": "code",
   "execution_count": 15,
   "metadata": {},
   "outputs": [
    {
     "data": {
      "text/plain": [
       "<matplotlib.axes._subplots.AxesSubplot at 0x1f66d604848>"
      ]
     },
     "execution_count": 15,
     "metadata": {},
     "output_type": "execute_result"
    },
    {
     "data": {
      "image/png": "[encoded data removed]",
      "text/plain": [
       "<Figure size 432x288 with 1 Axes>"
      ]
     },
     "metadata": {
      "needs_background": "light"
     },
     "output_type": "display_data"
    }
   ],
   "source": [
    "df.groupby(by=['gender', 'age_range_id'])['age'].count().plot(kind='bar')"
   ]
  },
  {
   "cell_type": "code",
   "execution_count": 16,
   "metadata": {},
   "outputs": [
    {
     "name": "stdout",
     "output_type": "stream",
     "text": [
      "Female\t< 18\t2568\n",
      "Female\t18 - 24\t11954\n",
      "Female\t25 - 34\t24771\n",
      "Female\t35 - 44\t15662\n",
      "Female\t45 - 54\t5346\n",
      "Female\t55 - 64\t2264\n",
      "Female\t65 - 74\t727\n",
      "Female\t75+\t233\n",
      "Male\t< 18\t1375\n",
      "Male\t18 - 24\t5641\n",
      "Male\t25 - 34\t18975\n",
      "Male\t35 - 44\t21457\n",
      "Male\t45 - 54\t12626\n",
      "Male\t55 - 64\t5585\n",
      "Male\t65 - 74\t2366\n",
      "Male\t75+\t527\n"
     ]
    }
   ],
   "source": [
    "age_range_summary_df = df.groupby(by=['gender', 'age_range_id'])['age'].count().to_frame('count').reset_index()\n",
    "\n",
    "for index, row in age_range_summary_df.iterrows():\n",
    "    print('{}\\t{}\\t{}'.format(get_gender_name(row['gender']), get_age_range_name(row['age_range_id']), row['count']))"
   ]
  },
  {
   "cell_type": "code",
   "execution_count": 18,
   "metadata": {},
   "outputs": [],
   "source": [
    "for file_path in df.file_path.values:\n",
    "    source_file_path = os.path.join(IMDB_SOURCE_DIR, file_path)\n",
    "    if not os.path.exists(source_file_path):\n",
    "        print('Missing Source Photo! File: {}'.format(source_file_path))\n",
    "\n",
    "    output_file_path = os.path.join(IMAGE_OUTPUT_DIR, file_path)\n",
    "    if not os.path.exists(os.path.dirname(output_file_path)):\n",
    "        os.makedirs(os.path.dirname(output_file_path))\n",
    "\n",
    "    image = cv2.imread(source_file_path)\n",
    "    crop = cv2.resize(image, (IMAGE_SIZE_PIXELS, IMAGE_SIZE_PIXELS))\n",
    "    cv2.imwrite(output_file_path, crop)"
   ]
  },
  {
   "cell_type": "code",
   "execution_count": 19,
   "metadata": {},
   "outputs": [],
   "source": [
    "train_df = None\n",
    "validation_df = None\n",
    "test_df = None\n",
    "\n",
    "for age_range_id in df.age_range_id.unique():\n",
    "    split_df, tmp_test_df = sklearn.model_selection.train_test_split(df[df.age_range_id == age_range_id],\n",
    "                                                                      test_size=0.1)\n",
    "    tmp_train_df, tmp_validation_df = sklearn.model_selection.train_test_split(split_df, test_size=0.2)\n",
    "    \n",
    "    if train_df is None:\n",
    "        train_df = tmp_train_df.copy(deep=True)\n",
    "    else:\n",
    "        train_df = train_df.append(tmp_train_df, ignore_index=True)\n",
    "        \n",
    "    if validation_df is None:\n",
    "        validation_df = tmp_validation_df.copy(deep=True)\n",
    "    else:\n",
    "        validation_df = validation_df.append(tmp_validation_df, ignore_index=True)\n",
    "\n",
    "    if test_df is None:\n",
    "        test_df = tmp_test_df.copy(deep=True)\n",
    "    else:\n",
    "        test_df = test_df.append(tmp_test_df, ignore_index=True)"
   ]
  },
  {
   "cell_type": "code",
   "execution_count": 20,
   "metadata": {},
   "outputs": [
    {
     "data": {
      "text/plain": [
       "<matplotlib.axes._subplots.AxesSubplot at 0x1f66d785348>"
      ]
     },
     "execution_count": 20,
     "metadata": {},
     "output_type": "execute_result"
    },
    {
     "data": {
      "image/png": "[encoded data removed]",
      "text/plain": [
       "<Figure size 432x288 with 1 Axes>"
      ]
     },
     "metadata": {
      "needs_background": "light"
     },
     "output_type": "display_data"
    }
   ],
   "source": [
    "train_df.groupby(by=['gender', 'age_range_id'])['age'].count().plot(kind='bar')"
   ]
  },
  {
   "cell_type": "code",
   "execution_count": 21,
   "metadata": {},
   "outputs": [
    {
     "data": {
      "text/plain": [
       "<matplotlib.axes._subplots.AxesSubplot at 0x1f6710ae088>"
      ]
     },
     "execution_count": 21,
     "metadata": {},
     "output_type": "execute_result"
    },
    {
     "data": {
      "image/png": "[encoded data removed]",
      "text/plain": [
       "<Figure size 432x288 with 1 Axes>"
      ]
     },
     "metadata": {
      "needs_background": "light"
     },
     "output_type": "display_data"
    }
   ],
   "source": [
    "validation_df.groupby(by=['gender', 'age_range_id'])['age'].count().plot(kind='bar')"
   ]
  },
  {
   "cell_type": "code",
   "execution_count": 22,
   "metadata": {},
   "outputs": [
    {
     "data": {
      "text/plain": [
       "<matplotlib.axes._subplots.AxesSubplot at 0x1f671150108>"
      ]
     },
     "execution_count": 22,
     "metadata": {},
     "output_type": "execute_result"
    },
    {
     "data": {
      "image/png": "[encoded data removed]",
      "text/plain": [
       "<Figure size 432x288 with 1 Axes>"
      ]
     },
     "metadata": {
      "needs_background": "light"
     },
     "output_type": "display_data"
    }
   ],
   "source": [
    "test_df.groupby(by=['gender', 'age_range_id'])['age'].count().plot(kind='bar')"
   ]
  },
  {
   "cell_type": "code",
   "execution_count": 23,
   "metadata": {},
   "outputs": [
    {
     "name": "stdout",
     "output_type": "stream",
     "text": [
      "# of rows in Training data set: 95090\n"
     ]
    }
   ],
   "source": [
    "print('# of rows in Training data set: {}'.format(len(train_df.index)))"
   ]
  },
  {
   "cell_type": "code",
   "execution_count": 24,
   "metadata": {},
   "outputs": [
    {
     "name": "stdout",
     "output_type": "stream",
     "text": [
      "# of rows in Validation data set: 23776\n"
     ]
    }
   ],
   "source": [
    "print('# of rows in Validation data set: {}'.format(len(validation_df.index)))"
   ]
  },
  {
   "cell_type": "code",
   "execution_count": 25,
   "metadata": {},
   "outputs": [
    {
     "name": "stdout",
     "output_type": "stream",
     "text": [
      "# of rows in Test data set: 13211\n"
     ]
    }
   ],
   "source": [
    "print('# of rows in Test data set: {}'.format(len(test_df.index)))"
   ]
  },
  {
   "cell_type": "code",
   "execution_count": 26,
   "metadata": {},
   "outputs": [],
   "source": [
    "train_df.to_csv('train.csv', index=False)\n",
    "validation_df.to_csv('validation.csv', index=False)\n",
    "test_df.to_csv('test.csv', index=False)"
   ]
  },
  {
   "cell_type": "code",
   "execution_count": 27,
   "metadata": {},
   "outputs": [],
   "source": [
    "input_layer = layers.Input(shape=(IMAGE_SIZE_PIXELS, IMAGE_SIZE_PIXELS, 3))\n",
    "layer = layers.Conv2D(filters=32, kernel_size=3)(input_layer)\n",
    "layer = layers.Conv2D(filters=32*2, kernel_size=3)(layer)\n",
    "layer = layers.Conv2D(filters=32*3, kernel_size=3)(layer)\n",
    "layer = layers.Conv2D(filters=32*4, kernel_size=3)(layer)\n",
    "#layer = layers.Conv2D(filters=32*5, kernel_size=3)(layer)\n",
    "#layer = layers.Conv2D(filters=32*5, kernel_size=3)(layer)\n",
    "bottleneck = layers.GlobalMaxPool2D()(layer)"
   ]
  },
  {
   "cell_type": "code",
   "execution_count": 28,
   "metadata": {},
   "outputs": [],
   "source": [
    "layer = layers.Dense(units=128)(bottleneck)\n",
    "layer = layers.LeakyReLU(alpha=0.05)(layer)\n",
    "#layer = layers.PReLU(alpha_initializer=tf.keras.initializers.Constant(value=0.25))(layer)\n",
    "layer = layers.Dropout(0.3)(layer)\n",
    "layer = layers.Dense(units=128, activation='relu')(layer)\n",
    "age_output = layers.Dense(units=8, activation='softmax', name='age_output')(layer)"
   ]
  },
  {
   "cell_type": "code",
   "execution_count": 29,
   "metadata": {},
   "outputs": [],
   "source": [
    "layer = layers.Dense(units=128)(bottleneck)\n",
    "layer = layers.LeakyReLU(alpha=0.05)(layer)\n",
    "#layer = layers.PReLU(alpha_initializer=tf.keras.initializers.Constant(value=0.25))(layer)\n",
    "layer = layers.Dropout(0.3)(layer)\n",
    "layer = layers.Dense(units=128, activation='relu')(layer)\n",
    "gender_output = layers.Dense(units=2, activation='softmax', name='gender_output')(layer)"
   ]
  },
  {
   "cell_type": "code",
   "execution_count": 30,
   "metadata": {},
   "outputs": [
    {
     "name": "stdout",
     "output_type": "stream",
     "text": [
      "Model: \"model\"\n",
      "__________________________________________________________________________________________________\n",
      "Layer (type)                    Output Shape         Param #     Connected to                     \n",
      "==================================================================================================\n",
      "input_1 (InputLayer)            [(None, 224, 224, 3) 0                                            \n",
      "__________________________________________________________________________________________________\n",
      "conv2d (Conv2D)                 (None, 222, 222, 32) 896         input_1[0][0]                    \n",
      "__________________________________________________________________________________________________\n",
      "conv2d_1 (Conv2D)               (None, 220, 220, 64) 18496       conv2d[0][0]                     \n",
      "__________________________________________________________________________________________________\n",
      "conv2d_2 (Conv2D)               (None, 218, 218, 96) 55392       conv2d_1[0][0]                   \n",
      "__________________________________________________________________________________________________\n",
      "conv2d_3 (Conv2D)               (None, 216, 216, 128 110720      conv2d_2[0][0]                   \n",
      "__________________________________________________________________________________________________\n",
      "global_max_pooling2d (GlobalMax (None, 128)          0           conv2d_3[0][0]                   \n",
      "__________________________________________________________________________________________________\n",
      "dense (Dense)                   (None, 128)          16512       global_max_pooling2d[0][0]       \n",
      "__________________________________________________________________________________________________\n",
      "dense_2 (Dense)                 (None, 128)          16512       global_max_pooling2d[0][0]       \n",
      "__________________________________________________________________________________________________\n",
      "leaky_re_lu (LeakyReLU)         (None, 128)          0           dense[0][0]                      \n",
      "__________________________________________________________________________________________________\n",
      "leaky_re_lu_1 (LeakyReLU)       (None, 128)          0           dense_2[0][0]                    \n",
      "__________________________________________________________________________________________________\n",
      "dropout (Dropout)               (None, 128)          0           leaky_re_lu[0][0]                \n",
      "__________________________________________________________________________________________________\n",
      "dropout_1 (Dropout)             (None, 128)          0           leaky_re_lu_1[0][0]              \n",
      "__________________________________________________________________________________________________\n",
      "dense_1 (Dense)                 (None, 128)          16512       dropout[0][0]                    \n",
      "__________________________________________________________________________________________________\n",
      "dense_3 (Dense)                 (None, 128)          16512       dropout_1[0][0]                  \n",
      "__________________________________________________________________________________________________\n",
      "age_output (Dense)              (None, 8)            1032        dense_1[0][0]                    \n",
      "__________________________________________________________________________________________________\n",
      "gender_output (Dense)           (None, 2)            258         dense_3[0][0]                    \n",
      "==================================================================================================\n",
      "Total params: 252,842\n",
      "Trainable params: 252,842\n",
      "Non-trainable params: 0\n",
      "__________________________________________________________________________________________________\n"
     ]
    }
   ],
   "source": [
    "model = tf.keras.Model(inputs=input_layer, outputs=[age_output, gender_output])\n",
    "model.compile(optimizer='adam', \n",
    "              loss={'age_output': 'categorical_crossentropy', 'gender_output': 'categorical_crossentropy'},\n",
    "              loss_weights={'age_output': 2.0, 'gender_output': 1.0},\n",
    "              metrics={'age_output': 'accuracy', 'gender_output': 'accuracy'})\n",
    "model.summary()"
   ]
  },
  {
   "cell_type": "code",
   "execution_count": 31,
   "metadata": {},
   "outputs": [],
   "source": [
    "if os.path.isdir(MODEL_CHECKPOINT_DIR):\n",
    "    shutil.rmtree(MODEL_CHECKPOINT_DIR, ignore_errors=True)\n",
    "\n",
    "os.makedirs(MODEL_CHECKPOINT_DIR)\n",
    "    \n",
    "callbacks = [\n",
    "    tf.keras.callbacks.ModelCheckpoint(MODEL_CHECKPOINT_DIR, monitor='val_loss')\n",
    "]"
   ]
  },
  {
   "cell_type": "code",
   "execution_count": 32,
   "metadata": {},
   "outputs": [],
   "source": [
    "def get_data_generator(df, image_dir, for_training, batch_size=16):\n",
    "    images, ages, genders = [], [], []\n",
    "    while True:\n",
    "        for index, row in df.iterrows():\n",
    "            file_path, age_range_id, gender = row['file_path'], row['age_range_id'], row['gender']\n",
    "            im = Image.open(os.path.join(image_dir, file_path))\n",
    "            im = np.array(im) / 255.0\n",
    "            images.append(im)\n",
    "            ages.append(tf.keras.utils.to_categorical(age_range_id, 8))\n",
    "            genders.append(tf.keras.utils.to_categorical(gender, 2))\n",
    "            if len(images) >= batch_size:\n",
    "                yield np.array(images), [np.array(ages), np.array(genders)]\n",
    "                images, ages, genders = [], [], []\n",
    "        if not for_training:\n",
    "            break"
   ]
  },
  {
   "cell_type": "code",
   "execution_count": 33,
   "metadata": {},
   "outputs": [],
   "source": [
    "BATCH_SIZE = 16\n",
    "EPOCHS = 1\n",
    "\n",
    "train_gen = get_data_generator(train_df, IMAGE_OUTPUT_DIR, for_training=True, batch_size=BATCH_SIZE)\n",
    "validation_gen = get_data_generator(validation_df, IMAGE_OUTPUT_DIR, for_training=True, batch_size=BATCH_SIZE)"
   ]
  },
  {
   "cell_type": "code",
   "execution_count": 34,
   "metadata": {},
   "outputs": [
    {
     "name": "stdout",
     "output_type": "stream",
     "text": [
      "5942/5943 [============================>.] - ETA: 0s - loss: 14.9968 - age_output_loss: 7.1711 - gender_output_loss: 0.6542 - age_output_accuracy: 0.5528 - gender_output_accuracy: 0.6290WARNING:tensorflow:From c:\\tools\\python37\\lib\\site-packages\\tensorflow_core\\python\\ops\\resource_variable_ops.py:1781: calling BaseResourceVariable.__init__ (from tensorflow.python.ops.resource_variable_ops) with constraint is deprecated and will be removed in a future version.\n",
      "Instructions for updating:\n",
      "If using Keras pass *_constraint arguments to layers.\n",
      "INFO:tensorflow:Assets written to: model_checkpoint\\assets\n",
      "5943/5943 [==============================] - 1516s 255ms/step - loss: 14.9999 - age_output_loss: 7.1726 - gender_output_loss: 0.6542 - age_output_accuracy: 0.5527 - gender_output_accuracy: 0.6289 - val_loss: 28.6808 - val_age_output_loss: 13.9710 - val_gender_output_loss: 0.7386 - val_age_output_accuracy: 0.1332 - val_gender_output_accuracy: 0.4807\n"
     ]
    }
   ],
   "source": [
    "history = model.fit_generator(train_gen,\n",
    "                    steps_per_epoch=len(train_df)//BATCH_SIZE,\n",
    "                    epochs=EPOCHS,\n",
    "                    callbacks=callbacks,\n",
    "                    validation_data=validation_gen,\n",
    "                    validation_steps=len(validation_df)//BATCH_SIZE)"
   ]
  },
  {
   "cell_type": "code",
   "execution_count": 36,
   "metadata": {},
   "outputs": [
    {
     "name": "stdout",
     "output_type": "stream",
     "text": [
      "Saving model as: 1582928490.h5\n"
     ]
    }
   ],
   "source": [
    "export_path_keras = '{}.h5'.format(int(time.time()))\n",
    "print('Saving model as: {}'.format(export_path_keras))\n",
    "model.save(export_path_keras)"
   ]
  },
  {
   "cell_type": "code",
   "execution_count": null,
   "metadata": {},
   "outputs": [],
   "source": []
  }
 ],
 "metadata": {
  "kernelspec": {
   "display_name": "Python 3",
   "language": "python",
   "name": "python3"
  },
  "language_info": {
   "codemirror_mode": {
    "name": "ipython",
    "version": 3
   },
   "file_extension": ".py",
   "mimetype": "text/x-python",
   "name": "python",
   "nbconvert_exporter": "python",
   "pygments_lexer": "ipython3",
   "version": "3.7.5"
  }
 },
 "nbformat": 4,
 "nbformat_minor": 4
}
